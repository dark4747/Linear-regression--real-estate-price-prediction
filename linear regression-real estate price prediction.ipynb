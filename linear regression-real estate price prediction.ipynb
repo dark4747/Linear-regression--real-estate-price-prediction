{
 "cells": [
  {
   "cell_type": "code",
   "execution_count": 25,
   "id": "50104012",
   "metadata": {},
   "outputs": [],
   "source": [
    "import pandas as pd\n",
    "import numpy as np\n",
    "import matplotlib.pyplot as plt\n",
    "plt.rcParams['figure.figsize']=(20,10)"
   ]
  },
  {
   "cell_type": "code",
   "execution_count": 60,
   "id": "513b359a",
   "metadata": {},
   "outputs": [
    {
     "data": {
      "text/html": [
       "<div>\n",
       "<style scoped>\n",
       "    .dataframe tbody tr th:only-of-type {\n",
       "        vertical-align: middle;\n",
       "    }\n",
       "\n",
       "    .dataframe tbody tr th {\n",
       "        vertical-align: top;\n",
       "    }\n",
       "\n",
       "    .dataframe thead th {\n",
       "        text-align: right;\n",
       "    }\n",
       "</style>\n",
       "<table border=\"1\" class=\"dataframe\">\n",
       "  <thead>\n",
       "    <tr style=\"text-align: right;\">\n",
       "      <th></th>\n",
       "      <th>No</th>\n",
       "      <th>X1 transaction date</th>\n",
       "      <th>X2 house age</th>\n",
       "      <th>X3 distance to the nearest MRT station</th>\n",
       "      <th>X4 number of convenience stores</th>\n",
       "      <th>X5 latitude</th>\n",
       "      <th>X6 longitude</th>\n",
       "      <th>Y house price of unit area</th>\n",
       "    </tr>\n",
       "  </thead>\n",
       "  <tbody>\n",
       "    <tr>\n",
       "      <th>0</th>\n",
       "      <td>1</td>\n",
       "      <td>2012.917</td>\n",
       "      <td>32.0</td>\n",
       "      <td>84.87882</td>\n",
       "      <td>10</td>\n",
       "      <td>24.98298</td>\n",
       "      <td>121.54024</td>\n",
       "      <td>37.9</td>\n",
       "    </tr>\n",
       "    <tr>\n",
       "      <th>1</th>\n",
       "      <td>2</td>\n",
       "      <td>2012.917</td>\n",
       "      <td>19.5</td>\n",
       "      <td>306.59470</td>\n",
       "      <td>9</td>\n",
       "      <td>24.98034</td>\n",
       "      <td>121.53951</td>\n",
       "      <td>42.2</td>\n",
       "    </tr>\n",
       "    <tr>\n",
       "      <th>2</th>\n",
       "      <td>3</td>\n",
       "      <td>2013.583</td>\n",
       "      <td>13.3</td>\n",
       "      <td>561.98450</td>\n",
       "      <td>5</td>\n",
       "      <td>24.98746</td>\n",
       "      <td>121.54391</td>\n",
       "      <td>47.3</td>\n",
       "    </tr>\n",
       "    <tr>\n",
       "      <th>3</th>\n",
       "      <td>4</td>\n",
       "      <td>2013.500</td>\n",
       "      <td>13.3</td>\n",
       "      <td>561.98450</td>\n",
       "      <td>5</td>\n",
       "      <td>24.98746</td>\n",
       "      <td>121.54391</td>\n",
       "      <td>54.8</td>\n",
       "    </tr>\n",
       "    <tr>\n",
       "      <th>4</th>\n",
       "      <td>5</td>\n",
       "      <td>2012.833</td>\n",
       "      <td>5.0</td>\n",
       "      <td>390.56840</td>\n",
       "      <td>5</td>\n",
       "      <td>24.97937</td>\n",
       "      <td>121.54245</td>\n",
       "      <td>43.1</td>\n",
       "    </tr>\n",
       "  </tbody>\n",
       "</table>\n",
       "</div>"
      ],
      "text/plain": [
       "   No  X1 transaction date  X2 house age  \\\n",
       "0   1             2012.917          32.0   \n",
       "1   2             2012.917          19.5   \n",
       "2   3             2013.583          13.3   \n",
       "3   4             2013.500          13.3   \n",
       "4   5             2012.833           5.0   \n",
       "\n",
       "   X3 distance to the nearest MRT station  X4 number of convenience stores  \\\n",
       "0                                84.87882                               10   \n",
       "1                               306.59470                                9   \n",
       "2                               561.98450                                5   \n",
       "3                               561.98450                                5   \n",
       "4                               390.56840                                5   \n",
       "\n",
       "   X5 latitude  X6 longitude  Y house price of unit area  \n",
       "0     24.98298     121.54024                        37.9  \n",
       "1     24.98034     121.53951                        42.2  \n",
       "2     24.98746     121.54391                        47.3  \n",
       "3     24.98746     121.54391                        54.8  \n",
       "4     24.97937     121.54245                        43.1  "
      ]
     },
     "execution_count": 60,
     "metadata": {},
     "output_type": "execute_result"
    }
   ],
   "source": [
    "df=pd.read_csv('Real estate.csv')\n",
    "df.head()"
   ]
  },
  {
   "cell_type": "code",
   "execution_count": 27,
   "id": "ba0bb8ae",
   "metadata": {},
   "outputs": [
    {
     "data": {
      "text/plain": [
       "0    32.0\n",
       "1    19.5\n",
       "2    13.3\n",
       "3    13.3\n",
       "4     5.0\n",
       "Name: X2 house age, dtype: float64"
      ]
     },
     "execution_count": 27,
     "metadata": {},
     "output_type": "execute_result"
    }
   ],
   "source": [
    "df['X2 house age'][0:5]"
   ]
  },
  {
   "cell_type": "code",
   "execution_count": 54,
   "id": "06173462",
   "metadata": {},
   "outputs": [
    {
     "data": {
      "text/plain": [
       "<matplotlib.collections.PathCollection at 0x1682bcfc430>"
      ]
     },
     "execution_count": 54,
     "metadata": {},
     "output_type": "execute_result"
    },
    {
     "data": {
      "image/png": "[encoded data removed]",
      "text/plain": [
       "<Figure size 432x288 with 1 Axes>"
      ]
     },
     "metadata": {
      "needs_background": "light"
     },
     "output_type": "display_data"
    }
   ],
   "source": [
    "%matplotlib inline\n",
    "x=df[\"X4 number of convenience stores\"].values\n",
    "y=df[\"Y house price of unit area\"].values\n",
    "plt.xlabel('number of convnience stores')\n",
    "plt.ylabel('house price of unit area')\n",
    "plt.scatter(x,y,c='red')/........\n",
    "5'\n",
    "asssssssss2wwwwwwwwwwwwww"
   ]
  },
  {
   "cell_type": "code",
   "execution_count": 64,
   "id": "c2b1cd4e",
   "metadata": {},
   "outputs": [
    {
     "name": "stdout",
     "output_type": "stream",
     "text": [
      "slop of the line(m) is  [2.63765346]\n",
      "the Y intercept is  27.181104781472428\n",
      "0.32604660851305045\n"
     ]
    }
   ],
   "source": [
    "from sklearn.linear_model import LinearRegression\n",
    "from sklearn.metrics import mean_squared_error\n",
    "m=len(x)\n",
    "reg=LinearRegression()\n",
    "x=x.reshape(m,1)\n",
    "reg=reg.fit(x,y)\n",
    "Ypredict=reg.predict(x)\n",
    "r2=reg.score(x,y)\n",
    "print(\"slop of the line(m) is \",reg.coef_)\n",
    "print(\"the Y intercept is \",reg.intercept_)\n",
    "print(r2)"
   ]
  },
  {
   "cell_type": "code",
   "execution_count": 65,
   "id": "cb486be7",
   "metadata": {},
   "outputs": [
    {
     "name": "stdout",
     "output_type": "stream",
     "text": [
      "[53.55763942 50.91998595 40.3693721  40.3693721  40.3693721  35.09406517\n",
      " 45.64467903 43.00702556 29.81875824 35.09406517 29.81875824 50.91998595\n",
      " 40.3693721  37.73171864 37.73171864 32.45641171 43.00702556 29.81875824\n",
      " 48.28233249 45.64467903 35.09406517 45.64467903 29.81875824 45.64467903\n",
      " 37.73171864 32.45641171 40.3693721  40.3693721  37.73171864 40.3693721\n",
      " 27.18110478 45.64467903 29.81875824 43.00702556 45.64467903 27.18110478\n",
      " 32.45641171 29.81875824 43.00702556 40.3693721  27.18110478 27.18110478\n",
      " 40.3693721  43.00702556 37.73171864 48.28233249 50.91998595 35.09406517\n",
      " 27.18110478 29.81875824 37.73171864 29.81875824 35.09406517 40.3693721\n",
      " 40.3693721  27.18110478 48.28233249 45.64467903 29.81875824 40.3693721\n",
      " 32.45641171 43.00702556 35.09406517 37.73171864 27.18110478 48.28233249\n",
      " 43.00702556 40.3693721  43.00702556 40.3693721  50.91998595 35.09406517\n",
      " 48.28233249 27.18110478 53.55763942 29.81875824 35.09406517 35.09406517\n",
      " 32.45641171 29.81875824 37.73171864 43.00702556 45.64467903 35.09406517\n",
      " 45.64467903 50.91998595 29.81875824 27.18110478 27.18110478 27.18110478\n",
      " 29.81875824 27.18110478 37.73171864 27.18110478 40.3693721  40.3693721\n",
      " 50.91998595 35.09406517 40.3693721  50.91998595 37.73171864 29.81875824\n",
      " 43.00702556 43.00702556 43.00702556 43.00702556 48.28233249 29.81875824\n",
      " 32.45641171 35.09406517 40.3693721  45.64467903 35.09406517 43.00702556\n",
      " 48.28233249 32.45641171 29.81875824 27.18110478 35.09406517 40.3693721\n",
      " 40.3693721  40.3693721  37.73171864 27.18110478 45.64467903 43.00702556\n",
      " 37.73171864 40.3693721  43.00702556 45.64467903 48.28233249 35.09406517\n",
      " 40.3693721  48.28233249 43.00702556 27.18110478 40.3693721  43.00702556\n",
      " 27.18110478 40.3693721  40.3693721  35.09406517 40.3693721  40.3693721\n",
      " 29.81875824 40.3693721  27.18110478 48.28233249 27.18110478 48.28233249\n",
      " 45.64467903 50.91998595 29.81875824 43.00702556 27.18110478 27.18110478\n",
      " 27.18110478 37.73171864 40.3693721  37.73171864 48.28233249 35.09406517\n",
      " 27.18110478 40.3693721  27.18110478 29.81875824 43.00702556 48.28233249\n",
      " 40.3693721  29.81875824 27.18110478 40.3693721  50.91998595 37.73171864\n",
      " 45.64467903 35.09406517 27.18110478 50.91998595 37.73171864 29.81875824\n",
      " 27.18110478 48.28233249 35.09406517 27.18110478 27.18110478 35.09406517\n",
      " 35.09406517 27.18110478 48.28233249 27.18110478 48.28233249 32.45641171\n",
      " 45.64467903 40.3693721  27.18110478 40.3693721  32.45641171 48.28233249\n",
      " 45.64467903 48.28233249 27.18110478 40.3693721  35.09406517 40.3693721\n",
      " 29.81875824 35.09406517 53.55763942 35.09406517 29.81875824 48.28233249\n",
      " 40.3693721  29.81875824 32.45641171 50.91998595 35.09406517 48.28233249\n",
      " 29.81875824 43.00702556 40.3693721  48.28233249 50.91998595 27.18110478\n",
      " 53.55763942 27.18110478 43.00702556 43.00702556 27.18110478 48.28233249\n",
      " 27.18110478 27.18110478 35.09406517 27.18110478 29.81875824 50.91998595\n",
      " 37.73171864 45.64467903 53.55763942 27.18110478 27.18110478 27.18110478\n",
      " 32.45641171 45.64467903 35.09406517 48.28233249 35.09406517 40.3693721\n",
      " 43.00702556 27.18110478 27.18110478 29.81875824 45.64467903 27.18110478\n",
      " 50.91998595 32.45641171 40.3693721  29.81875824 29.81875824 29.81875824\n",
      " 43.00702556 27.18110478 37.73171864 35.09406517 40.3693721  35.09406517\n",
      " 45.64467903 37.73171864 35.09406517 40.3693721  40.3693721  27.18110478\n",
      " 29.81875824 48.28233249 40.3693721  29.81875824 45.64467903 45.64467903\n",
      " 40.3693721  35.09406517 43.00702556 35.09406517 43.00702556 50.91998595\n",
      " 29.81875824 32.45641171 45.64467903 35.09406517 50.91998595 40.3693721\n",
      " 43.00702556 40.3693721  27.18110478 45.64467903 40.3693721  45.64467903\n",
      " 43.00702556 35.09406517 37.73171864 37.73171864 27.18110478 53.55763942\n",
      " 37.73171864 27.18110478 35.09406517 27.18110478 35.09406517 40.3693721\n",
      " 29.81875824 27.18110478 40.3693721  27.18110478 32.45641171 37.73171864\n",
      " 50.91998595 40.3693721  43.00702556 32.45641171 45.64467903 32.45641171\n",
      " 53.55763942 40.3693721  27.18110478 37.73171864 29.81875824 43.00702556\n",
      " 32.45641171 48.28233249 45.64467903 35.09406517 35.09406517 27.18110478\n",
      " 27.18110478 27.18110478 32.45641171 40.3693721  40.3693721  43.00702556\n",
      " 32.45641171 40.3693721  50.91998595 40.3693721  27.18110478 32.45641171\n",
      " 50.91998595 48.28233249 27.18110478 27.18110478 32.45641171 29.81875824\n",
      " 43.00702556 40.3693721  40.3693721  35.09406517 35.09406517 35.09406517\n",
      " 29.81875824 40.3693721  29.81875824 50.91998595 43.00702556 27.18110478\n",
      " 53.55763942 48.28233249 37.73171864 53.55763942 45.64467903 37.73171864\n",
      " 29.81875824 32.45641171 29.81875824 35.09406517 40.3693721  40.3693721\n",
      " 45.64467903 29.81875824 40.3693721  27.18110478 32.45641171 48.28233249\n",
      " 48.28233249 43.00702556 40.3693721  50.91998595 27.18110478 37.73171864\n",
      " 27.18110478 53.55763942 27.18110478 35.09406517 37.73171864 48.28233249\n",
      " 50.91998595 29.81875824 43.00702556 37.73171864 29.81875824 37.73171864\n",
      " 29.81875824 37.73171864 32.45641171 29.81875824 40.3693721  35.09406517\n",
      " 29.81875824 50.91998595 40.3693721  43.00702556 45.64467903 27.18110478\n",
      " 35.09406517 27.18110478 50.91998595 45.64467903 40.3693721  50.91998595]\n"
     ]
    }
   ],
   "source": [
    "print(Ypredict)"
   ]
  },
  {
   "cell_type": "code",
   "execution_count": 57,
   "id": "4dc4bf4e",
   "metadata": {},
   "outputs": [
    {
     "name": "stdout",
     "output_type": "stream",
     "text": [
      "[2.63765346]\n",
      "27.181104781472428\n"
     ]
    }
   ],
   "source": [
    "b=reg.intercept_\n",
    "slop=reg.coef_\n",
    "print(slop)\n",
    "print(b)"
   ]
  },
  {
   "cell_type": "code",
   "execution_count": 66,
   "id": "0d8849dd",
   "metadata": {},
   "outputs": [
    {
     "data": {
      "text/plain": [
       "[<matplotlib.lines.Line2D at 0x1682bdbdee0>]"
      ]
     },
     "execution_count": 66,
     "metadata": {},
     "output_type": "execute_result"
    },
    {
     "data": {
      "image/png": "[encoded data removed]",
      "text/plain": [
       "<Figure size 432x288 with 1 Axes>"
      ]
     },
     "metadata": {
      "needs_background": "light"
     },
     "output_type": "display_data"
    }
   ],
   "source": [
    "plt.title('Linear regression model')\n",
    "plt.xlabel('number of convnience stores')\n",
    "plt.ylabel('price of the house per unit area')\n",
    "plt.scatter(x,y,c='red',label='scatter points')\n",
    "plt.plot(x,Ypredict,c='blue',label='regression line')"
   ]
  },
  {
   "cell_type": "code",
   "execution_count": 59,
   "id": "a31cf0aa",
   "metadata": {},
   "outputs": [
    {
     "name": "stdout",
     "output_type": "stream",
     "text": [
      " the r^2 value for this model is  0.32604660851305045\n"
     ]
    }
   ],
   "source": [
    "r2=reg.score(x,y)\n",
    "print(\" the r^2 value for this model is \",r2)"
   ]
  },
  {
   "cell_type": "code",
   "execution_count": null,
   "id": "cc38218e",
   "metadata": {},
   "outputs": [],
   "source": []
  }
 ],
 "metadata": {
  "kernelspec": {
   "display_name": "Python 3",
   "language": "python",
   "name": "python3"
  },
  "language_info": {
   "codemirror_mode": {
    "name": "ipython",
    "version": 3
   },
   "file_extension": ".py",
   "mimetype": "text/x-python",
   "name": "python",
   "nbconvert_exporter": "python",
   "pygments_lexer": "ipython3",
   "version": "3.8.8"
  }
 },
 "nbformat": 4,
 "nbformat_minor": 5
}
